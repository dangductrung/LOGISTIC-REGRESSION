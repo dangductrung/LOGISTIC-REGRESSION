{
 "cells": [
  {
   "cell_type": "code",
   "execution_count": 55,
   "metadata": {},
   "outputs": [
    {
     "data": {
      "image/png": "[encoded data removed]",
      "text/plain": [
       "<Figure size 144x144 with 1 Axes>"
      ]
     },
     "metadata": {
      "needs_background": "light"
     },
     "output_type": "display_data"
    }
   ],
   "source": [
    "import numpy as np\n",
    "import matplotlib.pyplot as plt  # To visualize\n",
    "import pandas as pd  # To read data\n",
    "from sklearn.linear_model import LinearRegression\n",
    "import sklearn\n",
    "\n",
    "\n",
    "data = pd.read_csv('train.csv')\n",
    "\n",
    "\n",
    "def ShowImage(data, index):\n",
    "    pictures = data.drop(['label'], axis = 1)\n",
    "    picture = pictures.iloc[index].values.reshape(28, 28)\n",
    "\n",
    "    plt.figure( figsize = (2, 2))\n",
    "    plt.imshow(picture, cmap = plt.get_cmap(name = 'gray'))\n",
    "    plt.show()\n",
    "    \n",
    "ShowImage(data, 11)"
   ]
  }
 ],
 "metadata": {
  "kernelspec": {
   "display_name": "Python 3",
   "language": "python",
   "name": "python3"
  },
  "language_info": {
   "codemirror_mode": {
    "name": "ipython",
    "version": 3
   },
   "file_extension": ".py",
   "mimetype": "text/x-python",
   "name": "python",
   "nbconvert_exporter": "python",
   "pygments_lexer": "ipython3",
   "version": "3.7.6"
  }
 },
 "nbformat": 4,
 "nbformat_minor": 4
}
