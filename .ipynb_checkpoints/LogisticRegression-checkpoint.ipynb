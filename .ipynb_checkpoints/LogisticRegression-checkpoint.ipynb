{
 "cells": [
  {
   "cell_type": "code",
   "execution_count": 3,
   "metadata": {},
   "outputs": [
    {
     "name": "stdout",
     "output_type": "stream",
     "text": [
      "Training data set: train.csv\n",
      "Testing data set: train.csv\n",
      "Importing data...\n",
      "Import completed!\n",
      "Choose operation:\n",
      "1\tShow Image.\n",
      "2\tRun Logistic Regression.\n",
      "Press other key to exit!\n",
      "Your option: 1\n",
      "Enter image ID (0, 27000): 472\n"
     ]
    },
    {
     "data": {
      "image/png": "[encoded data removed]",
      "text/plain": [
       "<Figure size 1800x1800 with 2 Axes>"
      ]
     },
     "metadata": {
      "needs_background": "light"
     },
     "output_type": "display_data"
    },
    {
     "name": "stdout",
     "output_type": "stream",
     "text": [
      "Choose operation:\n",
      "1\tShow Image.\n",
      "2\tRun Logistic Regression.\n",
      "Press other key to exit!\n",
      "Your option: a\n"
     ]
    }
   ],
   "source": [
    "import numpy as np\n",
    "import matplotlib.pyplot as plt  # To visualize\n",
    "import pandas as pd  # To read data\n",
    "from sklearn.linear_model import LogisticRegression\n",
    "from sklearn.model_selection import train_test_split\n",
    "import sklearn\n",
    "import seaborn as sns\n",
    "from sklearn import metrics\n",
    "import pickle\n",
    "\n",
    "def GetLink():\n",
    "    trainset = input('Training data set: ')\n",
    "    testset = input('Testing data set: ')\n",
    "    \n",
    "    return trainset, testset\n",
    "\n",
    "def GetData(trainset, testset):\n",
    "    print('Importing data...')\n",
    "    train = pd.read_csv(trainset)\n",
    "    test = pd.read_csv(testset)\n",
    "    \n",
    "    print('Import completed!')\n",
    "    \n",
    "    return train, test\n",
    "\n",
    "def Start():\n",
    "    option = input('Choose operation:\\n1\\tShow Image.\\n2\\tRun Logistic Regression.\\nPress other key to exit!\\nYour option: ') \n",
    "    while(option == '1' or option == '2'):\n",
    "        if(option == '1'):\n",
    "            ShowImage(train)\n",
    "        else:\n",
    "            Regression()\n",
    "        \n",
    "        option = input('Choose operation:\\n1\\tShow Image.\\n2\\tRun Logistic Regression.\\nPress other key to exit!\\nYour option: ')\n",
    "\n",
    "def ShowImage(data):\n",
    "    cap = str(len(data))\n",
    "    index = int(input('Enter image ID (0, '+ cap + '): '))\n",
    "    label = data['label'].iloc[index]\n",
    "    pictures = data.drop(['label'], axis = 1)\n",
    "    picture = pictures.iloc[index].values.reshape(28, 28)\n",
    "\n",
    "    plt.figure( figsize = (10, 10))\n",
    "    plt.imshow(picture, cmap = plt.cm.gray)\n",
    "    \n",
    "    title = 'Label: ' + str(label)\n",
    "    plt.title(title, size = 20)\n",
    "    plt.show()\n",
    "    \n",
    "def Train(X, Y):\n",
    "    print('Training data...')\n",
    "    regression = LogisticRegression(solver = 'lbfgs', max_iter = 1000)\n",
    "    regression.fit(X, Y)\n",
    "    print('Train completed')\n",
    "    return regression\n",
    "    \n",
    "def Predict(regression, X):\n",
    "    return regression.predict(X)\n",
    "    \n",
    "    \n",
    "def ConfusionMatrix(regression, X, Y, Y_pred, title, norm):\n",
    "    max_label = max(Y)\n",
    "    score = regression.score(X, Y)\n",
    "    cm = metrics.confusion_matrix(Y, Y_pred, labels=range(0, max_label + 1, 1), normalize = norm)\n",
    "    \n",
    "    plt.figure(figsize=(25,25))\n",
    "    sns.heatmap(cm, annot=True, fmt=\".3f\", linewidths=.5, square = True, cmap = 'Blues_r');\n",
    "    plt.ylabel('Actual label');\n",
    "    plt.xlabel('Predicted label');\n",
    "    all_sample_title = title + ': Accuracy Score: ' + str(score)\n",
    "    plt.title(all_sample_title, size = 20);\n",
    "    plt.show()\n",
    "    \n",
    "    \n",
    "def Transform(data):\n",
    "    Y = data.label\n",
    "    X = data.drop(['label'], axis = 1)\n",
    "    \n",
    "    return X, Y\n",
    "    \n",
    "def Regression():\n",
    "    regression = Train(X_train, Y_train)\n",
    "\n",
    "    Y_pred = Predict(regression, X_train)\n",
    "    ConfusionMatrix(regression, X_train, Y_train, Y_pred, \"Training Data Set\", 'true')\n",
    "\n",
    "    Y_pred = Predict(regression, X_test)\n",
    "    ConfusionMatrix(regression, X_test, Y_test, Y_pred, \"Testing Data Set\", 'true')\n",
    "\n",
    "trainset, testset = GetLink()\n",
    "train, test = GetData(trainset, testset)\n",
    "X_train, Y_train = Transform(train)\n",
    "X_test, Y_test = Transform(test)\n",
    "\n",
    "X_train, X_test, Y_train, Y_test = train_test_split(X_train, Y_train, test_size=0.7, random_state=42)\n",
    "\n",
    "    \n",
    "Start()\n"
   ]
  }
 ],
 "metadata": {
  "kernelspec": {
   "display_name": "Python 3",
   "language": "python",
   "name": "python3"
  },
  "language_info": {
   "codemirror_mode": {
    "name": "ipython",
    "version": 3
   },
   "file_extension": ".py",
   "mimetype": "text/x-python",
   "name": "python",
   "nbconvert_exporter": "python",
   "pygments_lexer": "ipython3",
   "version": "3.6.9"
  }
 },
 "nbformat": 4,
 "nbformat_minor": 4
}
