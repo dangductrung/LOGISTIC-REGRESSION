{
 "cells": [
  {
   "cell_type": "code",
   "execution_count": null,
   "metadata": {},
   "outputs": [
    {
     "name": "stdout",
     "output_type": "stream",
     "text": [
      "label        19\n",
      "pixel1      173\n",
      "pixel2      174\n",
      "pixel3      176\n",
      "pixel4      177\n",
      "           ... \n",
      "pixel780    197\n",
      "pixel781    195\n",
      "pixel782    195\n",
      "pixel783    193\n",
      "pixel784    190\n",
      "Name: 16, Length: 785, dtype: int64\n"
     ]
    },
    {
     "data": {
      "image/png": "[encoded data removed]",
      "text/plain": [
       "<Figure size 720x720 with 1 Axes>"
      ]
     },
     "metadata": {
      "needs_background": "light"
     },
     "output_type": "display_data"
    }
   ],
   "source": [
    "import numpy as np\n",
    "import matplotlib.pyplot as plt  # To visualize\n",
    "import pandas as pd  # To read data\n",
    "from sklearn.linear_model import LogisticRegression\n",
    "from sklearn.model_selection import train_test_split\n",
    "import sklearn\n",
    "import seaborn as sns\n",
    "from sklearn import metrics\n",
    "\n",
    "\n",
    "data = pd.read_csv('train.csv')\n",
    "\n",
    "\n",
    "def ShowImage(data, index):\n",
    "    print(data.iloc[index])\n",
    "    label = data['label'].iloc[index]\n",
    "    pictures = data.drop(['label'], axis = 1)\n",
    "    picture = pictures.iloc[index].values.reshape(28, 28)\n",
    "\n",
    "    plt.figure( figsize = (10, 10))\n",
    "    plt.imshow(picture, cmap = plt.cm.gray)\n",
    "    \n",
    "    title = 'Label: ' + str(label)\n",
    "    plt.title(title, size = 20)\n",
    "    plt.show()\n",
    "    \n",
    "ShowImage(data, 16)\n",
    "\n",
    "Y = data.label\n",
    "X = data.drop(['label'], axis = 1)\n",
    "\n",
    "X_train, X_test, Y_train, Y_test = train_test_split(X, Y, test_size=0.7)\n",
    "\n",
    "regression = LogisticRegression(solver = 'sag', max_iter = 1000)\n",
    "\n",
    "regression.fit(X_train, Y_train)\n",
    "Y_train_pred = regression.predict(X_train)\n",
    "Y_test_pred = regression.predict(X_test)\n",
    "\n",
    "score_train = regression.score(X_train, Y_train)\n",
    "score_test = regression.score(X_test, Y_test)\n",
    "\n",
    "cm_train = metrics.confusion_matrix(Y_train, Y_train_pred)\n",
    "cm_test = metrics.confusion_matrix(Y_test, Y_test_pred)\n",
    "\n",
    "print(score_train)\n",
    "print(score_test)\n",
    "\n",
    "plt.figure(figsize=(25,25))\n",
    "sns.heatmap(cm_train, annot=True, fmt=\".3f\", linewidths=.5, square = True, cmap = 'Blues_r');\n",
    "plt.ylabel('Actual label');\n",
    "plt.xlabel('Predicted label');\n",
    "all_sample_title = 'Train: Accuracy Score: ' + str(score_train)\n",
    "plt.title(all_sample_title, size = 20);\n",
    "plt.show()\n",
    "\n",
    "plt.figure(figsize=(25,25))\n",
    "sns.heatmap(cm_test, annot=True, fmt=\".3f\", linewidths=.5, square = True, cmap = 'Blues_r');\n",
    "plt.ylabel('Actual label');\n",
    "plt.xlabel('Predicted label');\n",
    "all_sample_title = 'Test: Accuracy Score: ' + str(score_test)\n",
    "plt.title(all_sample_title, size = 20);\n",
    "plt.show()"
   ]
  }
 ],
 "metadata": {
  "kernelspec": {
   "display_name": "Python 3",
   "language": "python",
   "name": "python3"
  },
  "language_info": {
   "codemirror_mode": {
    "name": "ipython",
    "version": 3
   },
   "file_extension": ".py",
   "mimetype": "text/x-python",
   "name": "python",
   "nbconvert_exporter": "python",
   "pygments_lexer": "ipython3",
   "version": "3.7.6"
  }
 },
 "nbformat": 4,
 "nbformat_minor": 4
}
